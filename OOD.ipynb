{
 "cells": [
  {
   "cell_type": "code",
   "execution_count": 2,
   "id": "aa6a127d",
   "metadata": {},
   "outputs": [],
   "source": [
    "import random\n",
    "class Gun():\n",
    "    def __init__(self, name: str, clip: int, damage: int, accuracy: int, strength: int):\n",
    "        assert strength >= 1, f'please, enter a strengt value greater than 1'\n",
    "        assert clip >= 1, f'please, enter a clip value greater than 1'\n",
    "        self.name = name\n",
    "        self.clip = clip\n",
    "        self.full_clip = clip\n",
    "        self.damage = damage\n",
    "        self.accuracy = accuracy\n",
    "        self.strength = strength\n",
    "        self.full_strength = strength\n",
    "        self.Boss = 100\n",
    "        self.New_Boss = 1000\n",
    "        self.step = 11\n",
    "        self.full_step = 11\n",
    "    def shot(self):\n",
    "        self.step -= 1\n",
    "        if (self.step > 0):\n",
    "            if (self.strength != 0):\n",
    "                if (self.clip>0):\n",
    "                    self.clip -= 1\n",
    "                    self.strength -= 1\n",
    "                    accuracy_shot = random.randrange(0, self.accuracy)\n",
    "                    if (accuracy_shot > 6):\n",
    "                        self.Boss -= self.damage\n",
    "                        print(f'shot from {self.name} hit the target')\n",
    "                    else:\n",
    "                        print(f'the shot did not reach the target')\n",
    "                else:\n",
    "                    print(f'there is no ammo in the clip')\n",
    "                if (self.Boss <= 0):\n",
    "                    print(f'Boss was died')\n",
    "                    self.Boss = self.New_Boss\n",
    "                    self.New_Boss *= 10\n",
    "                    self.step = self.full_step\n",
    "                    print(f' New Boss have {self.Boss} hp')\n",
    "                else:\n",
    "                    print(f'Boss have {self.Boss} hp')\n",
    "            else:\n",
    "                print(f'{self.name} is broken')\n",
    "        else:\n",
    "            print(f'You died')\n",
    "    def reload(self):\n",
    "        self.clip = self.full_clip\n",
    "        print(f'clip full')\n",
    "        self.step -= 1\n",
    "        if (self.step <= 0):\n",
    "            print(f'You died')\n",
    "    def scope(self):\n",
    "        self.accuracy += 7\n",
    "        print(f'accuracy increased')\n",
    "        self.step -= 1\n",
    "        if (self.step <= 0):\n",
    "            print(f'You died')\n",
    "    def repair(self):\n",
    "        self.strength = self.full_strength\n",
    "        print(f'strength full')\n",
    "        self.step -= 1\n",
    "        if (self.step <= 0):\n",
    "            print(f'You died')\n",
    "    def damage_boost(self):\n",
    "        self.damage += self.damage/10\n",
    "        print(f'damage increased')\n",
    "        self.step -= 1\n",
    "        if (self.step <= 0):\n",
    "            print(f'You died')\n",
    "    def stun(self):\n",
    "        accuracy_stun = random.randrange(0, self.accuracy)\n",
    "        if (accuracy_stun>12):\n",
    "            self.step += 2\n",
    "            print(f'stun successful')\n",
    "        else:        \n",
    "            self.step -= 1\n",
    "            if (self.step <= 0):\n",
    "                print(f'You died')"
   ]
  },
  {
   "cell_type": "code",
   "execution_count": 3,
   "id": "5e28cb1f",
   "metadata": {},
   "outputs": [],
   "source": [
    "class ColdGun(Gun):\n",
    "    def __init__(self, name: str, clip: int, damage: int, accuracy: int, strength: int, cold: int):\n",
    "        assert cold >= 5, f'please, enter a cold value greater than 5'\n",
    "        super().__init__(name, clip, damage, accuracy, strength)\n",
    "        self.cold = cold\n",
    "        self.full_cold = cold\n",
    "    def shot(self):\n",
    "        probability_cold = random.randrange(0, self.cold)\n",
    "        if (probability_cold > 20):\n",
    "            self.step += 1\n",
    "            self.cold -= 5\n",
    "            print(f'Boss frozen')\n",
    "            super().shot()\n",
    "        else:\n",
    "            print(f'Boss not frozen')\n",
    "            super().shot()\n",
    "    def charge(self):\n",
    "        self.cold = self.full_cold\n",
    "        print(f'cold full')\n",
    "        self.step -= 1\n",
    "        if (self.step <= 0):\n",
    "            print(f'You died')\n",
    "        "
   ]
  },
  {
   "cell_type": "code",
   "execution_count": 4,
   "id": "b4efc012",
   "metadata": {},
   "outputs": [],
   "source": [
    "gun1 = Gun('ak-47', 30, 32, 11, 50)\n",
    "gun2 = ColdGun('cold', 15, 17, 18, 30, 70)"
   ]
  },
  {
   "cell_type": "code",
   "execution_count": 5,
   "id": "46d1291a",
   "metadata": {},
   "outputs": [
    {
     "name": "stdout",
     "output_type": "stream",
     "text": [
      "Boss frozen\n",
      "the shot did not reach the target\n",
      "Boss have 100 hp\n"
     ]
    }
   ],
   "source": [
    "gun2.shot()"
   ]
  },
  {
   "cell_type": "code",
   "execution_count": 6,
   "id": "43bb2891",
   "metadata": {},
   "outputs": [
    {
     "name": "stdout",
     "output_type": "stream",
     "text": [
      "clip full\n"
     ]
    }
   ],
   "source": [
    "gun2.reload()"
   ]
  },
  {
   "cell_type": "code",
   "execution_count": null,
   "id": "6d0b9e1e",
   "metadata": {},
   "outputs": [],
   "source": []
  }
 ],
 "metadata": {
  "kernelspec": {
   "display_name": "Python 3",
   "language": "python",
   "name": "python3"
  },
  "language_info": {
   "codemirror_mode": {
    "name": "ipython",
    "version": 3
   },
   "file_extension": ".py",
   "mimetype": "text/x-python",
   "name": "python",
   "nbconvert_exporter": "python",
   "pygments_lexer": "ipython3",
   "version": "3.8.8"
  }
 },
 "nbformat": 4,
 "nbformat_minor": 5
}
