{
 "cells": [
  {
   "cell_type": "code",
   "execution_count": null,
   "id": "85c9d49e",
   "metadata": {},
   "outputs": [],
   "source": [
    "19 % 4 != 300 / 10 / 10 and False # задание 0 начало"
   ]
  },
  {
   "cell_type": "code",
   "execution_count": null,
   "id": "9e31ab0a",
   "metadata": {},
   "outputs": [],
   "source": [
    "-(1**2) < 2**0 and 10%10 <= 20 - 10*2"
   ]
  },
  {
   "cell_type": "code",
   "execution_count": null,
   "id": "acb69755",
   "metadata": {},
   "outputs": [],
   "source": [
    "2**3 == 108%100 or 'Chesse' == 'King Arthur' # задание 0 конец"
   ]
  },
  {
   "cell_type": "code",
   "execution_count": null,
   "id": "efc583f0",
   "metadata": {},
   "outputs": [],
   "source": [
    "a_list = [1, 2, 3, 4] # задание 1 начало"
   ]
  },
  {
   "cell_type": "code",
   "execution_count": null,
   "id": "3d0c545c",
   "metadata": {},
   "outputs": [],
   "source": [
    "a_list.append(5)\n",
    "print (a_list)"
   ]
  },
  {
   "cell_type": "code",
   "execution_count": null,
   "id": "4a021062",
   "metadata": {},
   "outputs": [],
   "source": [
    "a_list.clear()\n",
    "print (a_list)"
   ]
  },
  {
   "cell_type": "code",
   "execution_count": null,
   "id": "75f0429b",
   "metadata": {},
   "outputs": [],
   "source": [
    "a_list = [1, 2, 1, 2, 4,5]\n",
    "a_list.copy()\n",
    "print (a_list)"
   ]
  },
  {
   "cell_type": "code",
   "execution_count": null,
   "id": "3aa7d9f5",
   "metadata": {},
   "outputs": [],
   "source": [
    "a_list.count(1)"
   ]
  },
  {
   "cell_type": "code",
   "execution_count": null,
   "id": "1df36f91",
   "metadata": {},
   "outputs": [],
   "source": [
    "a_list.index(2)"
   ]
  },
  {
   "cell_type": "code",
   "execution_count": null,
   "id": "5b9a4eab",
   "metadata": {},
   "outputs": [],
   "source": [
    "a_list.insert(2, 100)\n",
    "print (a_list)"
   ]
  },
  {
   "cell_type": "code",
   "execution_count": null,
   "id": "e3e324c2",
   "metadata": {},
   "outputs": [],
   "source": [
    "a_list.pop(2)\n",
    "print (a_list)"
   ]
  },
  {
   "cell_type": "code",
   "execution_count": null,
   "id": "4c8d1215",
   "metadata": {},
   "outputs": [],
   "source": [
    "a_list.remove(2)\n",
    "print (a_list)"
   ]
  },
  {
   "cell_type": "code",
   "execution_count": null,
   "id": "0ed8ed67",
   "metadata": {},
   "outputs": [],
   "source": [
    "a_list.reverse()\n",
    "print (a_list)"
   ]
  },
  {
   "cell_type": "code",
   "execution_count": null,
   "id": "89982b54",
   "metadata": {},
   "outputs": [],
   "source": [
    "a_list.sort()\n",
    "print (a_list) # Задание 1 конец"
   ]
  },
  {
   "cell_type": "code",
   "execution_count": null,
   "id": "f5a8ffa4",
   "metadata": {},
   "outputs": [],
   "source": [
    "def F(x): #Задание 2\n",
    "    n = 1\n",
    "    for i in range(1, x+1):\n",
    "        n *= i\n",
    "    return n\n",
    "print (F(5))\n",
    "print(F(0))"
   ]
  },
  {
   "cell_type": "code",
   "execution_count": null,
   "id": "df7fc894",
   "metadata": {},
   "outputs": [],
   "source": [
    "import random # Задание 3\n",
    "choise = 0 \n",
    "while (choise == 0):\n",
    "    player = str(input(\"'rock', 'scissors', 'paper' \"))\n",
    "    if (player == 'rock' or player == 'scissors' or player == 'paper'):\n",
    "        choise = 1\n",
    "if player == 'rock':\n",
    "    print ('you have chosen a rock')\n",
    "elif player == 'scissors':\n",
    "    print ('you have chosen a scissors')\n",
    "elif player == 'paper':\n",
    "    print ('you have chosen a paper')\n",
    "computer = random.randint(1, 3)\n",
    "if computer == 1:\n",
    "    computer = 'rock'\n",
    "    print ('the computer chose a rock')\n",
    "elif computer == 2:\n",
    "    computer = 'scissors'\n",
    "    print ('the computer chose a scissors')\n",
    "elif computer == 3:\n",
    "    computer = 'scissors'\n",
    "    print ('the computer chose a paper')\n",
    "if player == computer:\n",
    "    win = 0\n",
    "elif player == 'rock' and computer == 'scissors':\n",
    "    win = 1 \n",
    "elif player == 'rock' and computer == 'paper':\n",
    "    win = 2 \n",
    "elif player == 'scissors' and computer == 'rock':\n",
    "    win = 2  \n",
    "elif player == 'scissors' and computer == 'paper':\n",
    "    win = 1 \n",
    "elif player == 'paper' and computer == 'rock':\n",
    "    win = 1\n",
    "else:\n",
    "    win = 2\n",
    "if win == 0:\n",
    "    print('draw')\n",
    "elif win == 1:\n",
    "        print ('player win')\n",
    "else:\n",
    "    print ('computer win')"
   ]
  },
  {
   "cell_type": "code",
   "execution_count": 15,
   "id": "6d469040",
   "metadata": {},
   "outputs": [
    {
     "name": "stdout",
     "output_type": "stream",
     "text": [
      "You are correct!\n",
      "you have chosen a paper\n",
      "the computer chose a rock\n",
      "player win\n"
     ]
    }
   ],
   "source": [
    "import random\n",
    "a = 'You are uncorrect!'\n",
    "def play(player):\n",
    "    if player == 'rock' or player == 'paper' or player == 'scissors':\n",
    "        print ('You are correct!')\n",
    "        if player == 'rock':\n",
    "            print ('you have chosen a rock')\n",
    "        elif player == 'scissors':\n",
    "            print ('you have chosen a scissors')\n",
    "        else:\n",
    "            print ('you have chosen a paper')\n",
    "        computer = random.randint(1, 3)\n",
    "        if computer == 1:\n",
    "            computer = 'rock'\n",
    "            print ('the computer chose a rock')\n",
    "        elif computer == 2:\n",
    "            computer = 'scissors'\n",
    "            print ('the computer chose a scissors')\n",
    "        else:\n",
    "            computer = 'paper'\n",
    "            print ('the computer chose a paper')\n",
    "        if player == computer:\n",
    "            win = 0\n",
    "        elif player == 'rock' and computer == 'scissors':\n",
    "            win = 1   \n",
    "        elif player == 'scissors' and computer == 'paper':\n",
    "            win = 1 \n",
    "        elif player == 'paper' and computer == 'rock':\n",
    "            win = 1\n",
    "        else:\n",
    "            win = 2\n",
    "        if win == 0:\n",
    "            win = 'draw'\n",
    "        elif win == 1:\n",
    "            win = 'player win'\n",
    "        elif win == 2:\n",
    "            win = 'computer win'\n",
    "        return win\n",
    "    else:\n",
    "        return a\n",
    "    \n",
    "        \n",
    "print (play('paper'))"
   ]
  },
  {
   "cell_type": "code",
   "execution_count": null,
   "id": "2dacbf12",
   "metadata": {},
   "outputs": [],
   "source": [
    "print (play('scissors'))\n"
   ]
  },
  {
   "cell_type": "code",
   "execution_count": null,
   "id": "6884a578",
   "metadata": {},
   "outputs": [],
   "source": []
  }
 ],
 "metadata": {
  "kernelspec": {
   "display_name": "Python 3",
   "language": "python",
   "name": "python3"
  },
  "language_info": {
   "codemirror_mode": {
    "name": "ipython",
    "version": 3
   },
   "file_extension": ".py",
   "mimetype": "text/x-python",
   "name": "python",
   "nbconvert_exporter": "python",
   "pygments_lexer": "ipython3",
   "version": "3.8.8"
  }
 },
 "nbformat": 4,
 "nbformat_minor": 5
}
